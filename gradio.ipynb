{
 "cells": [
  {
   "cell_type": "markdown",
   "id": "c5451977",
   "metadata": {
    "id": "c5451977"
   },
   "source": [
    "# Imports and Constants"
   ]
  },
  {
   "cell_type": "code",
   "execution_count": 1,
   "id": "VyzKMlsomF4c",
   "metadata": {
    "colab": {
     "base_uri": "https://localhost:8080/"
    },
    "executionInfo": {
     "elapsed": 2837,
     "status": "ok",
     "timestamp": 1748599317612,
     "user": {
      "displayName": "Clara Jessica",
      "userId": "17926309179290799269"
     },
     "user_tz": -420
    },
    "id": "VyzKMlsomF4c",
    "outputId": "2da4bd4b-7f31-426e-a1ab-f1e4fddcff66"
   },
   "outputs": [
    {
     "name": "stdout",
     "output_type": "stream",
     "text": [
      "Requirement already satisfied: gradio in c:\\python3.11\\lib\\site-packages (5.31.0)\n",
      "Requirement already satisfied: aiofiles<25.0,>=22.0 in c:\\python3.11\\lib\\site-packages (from gradio) (24.1.0)\n",
      "Requirement already satisfied: anyio<5.0,>=3.0 in c:\\python3.11\\lib\\site-packages (from gradio) (4.9.0)\n",
      "Requirement already satisfied: fastapi<1.0,>=0.115.2 in c:\\python3.11\\lib\\site-packages (from gradio) (0.115.12)\n",
      "Requirement already satisfied: ffmpy in c:\\python3.11\\lib\\site-packages (from gradio) (0.5.0)\n",
      "Requirement already satisfied: gradio-client==1.10.1 in c:\\python3.11\\lib\\site-packages (from gradio) (1.10.1)\n",
      "Requirement already satisfied: groovy~=0.1 in c:\\python3.11\\lib\\site-packages (from gradio) (0.1.2)\n",
      "Requirement already satisfied: httpx>=0.24.1 in c:\\python3.11\\lib\\site-packages (from gradio) (0.28.1)\n",
      "Requirement already satisfied: huggingface-hub>=0.28.1 in c:\\python3.11\\lib\\site-packages (from gradio) (0.32.2)\n",
      "Requirement already satisfied: jinja2<4.0 in c:\\python3.11\\lib\\site-packages (from gradio) (3.1.6)\n",
      "Requirement already satisfied: markupsafe<4.0,>=2.0 in c:\\python3.11\\lib\\site-packages (from gradio) (3.0.2)\n",
      "Requirement already satisfied: numpy<3.0,>=1.0 in c:\\python3.11\\lib\\site-packages (from gradio) (2.2.6)\n",
      "Requirement already satisfied: orjson~=3.0 in c:\\python3.11\\lib\\site-packages (from gradio) (3.10.18)\n",
      "Requirement already satisfied: packaging in c:\\python3.11\\lib\\site-packages (from gradio) (25.0)\n",
      "Requirement already satisfied: pandas<3.0,>=1.0 in c:\\python3.11\\lib\\site-packages (from gradio) (2.2.3)\n",
      "Requirement already satisfied: pillow<12.0,>=8.0 in c:\\python3.11\\lib\\site-packages (from gradio) (11.0.0)\n",
      "Requirement already satisfied: pydantic<2.12,>=2.0 in c:\\python3.11\\lib\\site-packages (from gradio) (2.9.2)\n",
      "Requirement already satisfied: pydub in c:\\python3.11\\lib\\site-packages (from gradio) (0.25.1)\n",
      "Requirement already satisfied: python-multipart>=0.0.18 in c:\\python3.11\\lib\\site-packages (from gradio) (0.0.20)\n",
      "Requirement already satisfied: pyyaml<7.0,>=5.0 in c:\\python3.11\\lib\\site-packages (from gradio) (6.0.2)\n",
      "Requirement already satisfied: ruff>=0.9.3 in c:\\python3.11\\lib\\site-packages (from gradio) (0.11.11)\n",
      "Requirement already satisfied: safehttpx<0.2.0,>=0.1.6 in c:\\python3.11\\lib\\site-packages (from gradio) (0.1.6)\n",
      "Requirement already satisfied: semantic-version~=2.0 in c:\\python3.11\\lib\\site-packages (from gradio) (2.10.0)\n",
      "Requirement already satisfied: starlette<1.0,>=0.40.0 in c:\\python3.11\\lib\\site-packages (from gradio) (0.46.2)\n",
      "Requirement already satisfied: tomlkit<0.14.0,>=0.12.0 in c:\\python3.11\\lib\\site-packages (from gradio) (0.13.2)\n",
      "Requirement already satisfied: typer<1.0,>=0.12 in c:\\python3.11\\lib\\site-packages (from gradio) (0.16.0)\n",
      "Requirement already satisfied: typing-extensions~=4.0 in c:\\python3.11\\lib\\site-packages (from gradio) (4.13.2)\n",
      "Requirement already satisfied: uvicorn>=0.14.0 in c:\\python3.11\\lib\\site-packages (from gradio) (0.34.2)\n",
      "Requirement already satisfied: fsspec in c:\\python3.11\\lib\\site-packages (from gradio-client==1.10.1->gradio) (2025.3.0)\n",
      "Requirement already satisfied: websockets<16.0,>=10.0 in c:\\python3.11\\lib\\site-packages (from gradio-client==1.10.1->gradio) (15.0.1)\n",
      "Requirement already satisfied: idna>=2.8 in c:\\python3.11\\lib\\site-packages (from anyio<5.0,>=3.0->gradio) (3.10)\n",
      "Requirement already satisfied: sniffio>=1.1 in c:\\python3.11\\lib\\site-packages (from anyio<5.0,>=3.0->gradio) (1.3.1)\n",
      "Requirement already satisfied: python-dateutil>=2.8.2 in c:\\python3.11\\lib\\site-packages (from pandas<3.0,>=1.0->gradio) (2.9.0.post0)\n",
      "Requirement already satisfied: pytz>=2020.1 in c:\\python3.11\\lib\\site-packages (from pandas<3.0,>=1.0->gradio) (2025.2)\n",
      "Requirement already satisfied: tzdata>=2022.7 in c:\\python3.11\\lib\\site-packages (from pandas<3.0,>=1.0->gradio) (2025.2)\n",
      "Requirement already satisfied: annotated-types>=0.6.0 in c:\\python3.11\\lib\\site-packages (from pydantic<2.12,>=2.0->gradio) (0.7.0)\n",
      "Requirement already satisfied: pydantic-core==2.23.4 in c:\\python3.11\\lib\\site-packages (from pydantic<2.12,>=2.0->gradio) (2.23.4)\n",
      "Requirement already satisfied: click>=8.0.0 in c:\\python3.11\\lib\\site-packages (from typer<1.0,>=0.12->gradio) (8.1.8)\n",
      "Requirement already satisfied: shellingham>=1.3.0 in c:\\python3.11\\lib\\site-packages (from typer<1.0,>=0.12->gradio) (1.5.4)\n",
      "Requirement already satisfied: rich>=10.11.0 in c:\\python3.11\\lib\\site-packages (from typer<1.0,>=0.12->gradio) (14.0.0)\n",
      "Requirement already satisfied: colorama in c:\\python3.11\\lib\\site-packages (from click>=8.0.0->typer<1.0,>=0.12->gradio) (0.4.6)\n",
      "Requirement already satisfied: certifi in c:\\python3.11\\lib\\site-packages (from httpx>=0.24.1->gradio) (2025.4.26)\n",
      "Requirement already satisfied: httpcore==1.* in c:\\python3.11\\lib\\site-packages (from httpx>=0.24.1->gradio) (1.0.9)\n",
      "Requirement already satisfied: h11>=0.16 in c:\\python3.11\\lib\\site-packages (from httpcore==1.*->httpx>=0.24.1->gradio) (0.16.0)\n",
      "Requirement already satisfied: filelock in c:\\python3.11\\lib\\site-packages (from huggingface-hub>=0.28.1->gradio) (3.16.1)\n",
      "Requirement already satisfied: requests in c:\\python3.11\\lib\\site-packages (from huggingface-hub>=0.28.1->gradio) (2.32.3)\n",
      "Requirement already satisfied: tqdm>=4.42.1 in c:\\python3.11\\lib\\site-packages (from huggingface-hub>=0.28.1->gradio) (4.67.1)\n",
      "Requirement already satisfied: six>=1.5 in c:\\python3.11\\lib\\site-packages (from python-dateutil>=2.8.2->pandas<3.0,>=1.0->gradio) (1.17.0)\n",
      "Requirement already satisfied: markdown-it-py>=2.2.0 in c:\\python3.11\\lib\\site-packages (from rich>=10.11.0->typer<1.0,>=0.12->gradio) (3.0.0)\n",
      "Requirement already satisfied: pygments<3.0.0,>=2.13.0 in c:\\python3.11\\lib\\site-packages (from rich>=10.11.0->typer<1.0,>=0.12->gradio) (2.19.1)\n",
      "Requirement already satisfied: mdurl~=0.1 in c:\\python3.11\\lib\\site-packages (from markdown-it-py>=2.2.0->rich>=10.11.0->typer<1.0,>=0.12->gradio) (0.1.2)\n",
      "Requirement already satisfied: charset-normalizer<4,>=2 in c:\\python3.11\\lib\\site-packages (from requests->huggingface-hub>=0.28.1->gradio) (3.4.2)\n",
      "Requirement already satisfied: urllib3<3,>=1.21.1 in c:\\python3.11\\lib\\site-packages (from requests->huggingface-hub>=0.28.1->gradio) (2.4.0)\n",
      "Note: you may need to restart the kernel to use updated packages.\n"
     ]
    }
   ],
   "source": [
    "pip install gradio"
   ]
  },
  {
   "cell_type": "code",
   "execution_count": 2,
   "id": "af5b474c",
   "metadata": {
    "executionInfo": {
     "elapsed": 3,
     "status": "ok",
     "timestamp": 1748599317618,
     "user": {
      "displayName": "Clara Jessica",
      "userId": "17926309179290799269"
     },
     "user_tz": -420
    },
    "id": "af5b474c"
   },
   "outputs": [],
   "source": [
    "import gradio as gr\n",
    "import cv2\n",
    "import numpy as np\n",
    "from PIL import Image\n",
    "import tensorflow as tf\n",
    "from sklearn.preprocessing import LabelEncoder\n",
    "import json\n",
    "import os\n",
    "import pandas as pd\n",
    "from tensorflow.keras.applications.efficientnet import preprocess_input\n",
    "\n",
    "# Constants\n",
    "IMG_SIZE = 224  # Input size for the model"
   ]
  },
  {
   "cell_type": "markdown",
   "id": "316db1cd",
   "metadata": {
    "id": "316db1cd"
   },
   "source": [
    "# Load Model"
   ]
  },
  {
   "cell_type": "code",
   "execution_count": 3,
   "id": "7e18ff54",
   "metadata": {
    "colab": {
     "base_uri": "https://localhost:8080/"
    },
    "executionInfo": {
     "elapsed": 1957,
     "status": "ok",
     "timestamp": 1748599321148,
     "user": {
      "displayName": "Clara Jessica",
      "userId": "17926309179290799269"
     },
     "user_tz": -420
    },
    "id": "7e18ff54",
    "outputId": "947fcd55-3fb4-4bb3-9176-fc21ba4fe2e8"
   },
   "outputs": [
    {
     "name": "stderr",
     "output_type": "stream",
     "text": [
      "WARNING:absl:Compiled the loaded model, but the compiled metrics have yet to be built. `model.compile_metrics` will be empty until you train or evaluate the model.\n"
     ]
    }
   ],
   "source": [
    "model_path = \"EfficientNetB0_NoTrain_E64_B128_IMG224.h5\"\n",
    "model = tf.keras.models.load_model(model_path)"
   ]
  },
  {
   "cell_type": "markdown",
   "id": "d6d43d76",
   "metadata": {
    "id": "d6d43d76"
   },
   "source": [
    "# Load COCO Metadata"
   ]
  },
  {
   "cell_type": "code",
   "execution_count": 4,
   "id": "664c297d",
   "metadata": {
    "executionInfo": {
     "elapsed": 153,
     "status": "ok",
     "timestamp": 1748599321304,
     "user": {
      "displayName": "Clara Jessica",
      "userId": "17926309179290799269"
     },
     "user_tz": -420
    },
    "id": "664c297d"
   },
   "outputs": [],
   "source": [
    "base_path = 'nutritionverse-data'\n",
    "coco_json_path = os.path.join(base_path, 'nutritionverse-manual/nutritionverse-manual/images/_annotations.coco.json')\n",
    "\n",
    "with open(coco_json_path, 'r') as f:\n",
    "    coco_data = json.load(f)"
   ]
  },
  {
   "cell_type": "markdown",
   "id": "cacde267",
   "metadata": {
    "id": "cacde267"
   },
   "source": [
    "# Load Nutrition Data"
   ]
  },
  {
   "cell_type": "code",
   "execution_count": 5,
   "id": "82ccbe68",
   "metadata": {
    "executionInfo": {
     "elapsed": 23,
     "status": "ok",
     "timestamp": 1748599321330,
     "user": {
      "displayName": "Clara Jessica",
      "userId": "17926309179290799269"
     },
     "user_tz": -420
    },
    "id": "82ccbe68"
   },
   "outputs": [],
   "source": [
    "nutrition_data = pd.read_csv(\"food_nutrients.csv\")"
   ]
  },
  {
   "cell_type": "markdown",
   "id": "c306564e",
   "metadata": {
    "id": "c306564e"
   },
   "source": [
    "# Prepare Label Encoder"
   ]
  },
  {
   "cell_type": "code",
   "execution_count": 6,
   "id": "19fc57e4",
   "metadata": {
    "colab": {
     "base_uri": "https://localhost:8080/",
     "height": 80
    },
    "executionInfo": {
     "elapsed": 61,
     "status": "ok",
     "timestamp": 1748599321394,
     "user": {
      "displayName": "Clara Jessica",
      "userId": "17926309179290799269"
     },
     "user_tz": -420
    },
    "id": "19fc57e4",
    "outputId": "0ee2ecc0-f1d0-44f0-db02-baec32061384"
   },
   "outputs": [
    {
     "data": {
      "text/html": [
       "<style>#sk-container-id-1 {\n",
       "  /* Definition of color scheme common for light and dark mode */\n",
       "  --sklearn-color-text: #000;\n",
       "  --sklearn-color-text-muted: #666;\n",
       "  --sklearn-color-line: gray;\n",
       "  /* Definition of color scheme for unfitted estimators */\n",
       "  --sklearn-color-unfitted-level-0: #fff5e6;\n",
       "  --sklearn-color-unfitted-level-1: #f6e4d2;\n",
       "  --sklearn-color-unfitted-level-2: #ffe0b3;\n",
       "  --sklearn-color-unfitted-level-3: chocolate;\n",
       "  /* Definition of color scheme for fitted estimators */\n",
       "  --sklearn-color-fitted-level-0: #f0f8ff;\n",
       "  --sklearn-color-fitted-level-1: #d4ebff;\n",
       "  --sklearn-color-fitted-level-2: #b3dbfd;\n",
       "  --sklearn-color-fitted-level-3: cornflowerblue;\n",
       "\n",
       "  /* Specific color for light theme */\n",
       "  --sklearn-color-text-on-default-background: var(--sg-text-color, var(--theme-code-foreground, var(--jp-content-font-color1, black)));\n",
       "  --sklearn-color-background: var(--sg-background-color, var(--theme-background, var(--jp-layout-color0, white)));\n",
       "  --sklearn-color-border-box: var(--sg-text-color, var(--theme-code-foreground, var(--jp-content-font-color1, black)));\n",
       "  --sklearn-color-icon: #696969;\n",
       "\n",
       "  @media (prefers-color-scheme: dark) {\n",
       "    /* Redefinition of color scheme for dark theme */\n",
       "    --sklearn-color-text-on-default-background: var(--sg-text-color, var(--theme-code-foreground, var(--jp-content-font-color1, white)));\n",
       "    --sklearn-color-background: var(--sg-background-color, var(--theme-background, var(--jp-layout-color0, #111)));\n",
       "    --sklearn-color-border-box: var(--sg-text-color, var(--theme-code-foreground, var(--jp-content-font-color1, white)));\n",
       "    --sklearn-color-icon: #878787;\n",
       "  }\n",
       "}\n",
       "\n",
       "#sk-container-id-1 {\n",
       "  color: var(--sklearn-color-text);\n",
       "}\n",
       "\n",
       "#sk-container-id-1 pre {\n",
       "  padding: 0;\n",
       "}\n",
       "\n",
       "#sk-container-id-1 input.sk-hidden--visually {\n",
       "  border: 0;\n",
       "  clip: rect(1px 1px 1px 1px);\n",
       "  clip: rect(1px, 1px, 1px, 1px);\n",
       "  height: 1px;\n",
       "  margin: -1px;\n",
       "  overflow: hidden;\n",
       "  padding: 0;\n",
       "  position: absolute;\n",
       "  width: 1px;\n",
       "}\n",
       "\n",
       "#sk-container-id-1 div.sk-dashed-wrapped {\n",
       "  border: 1px dashed var(--sklearn-color-line);\n",
       "  margin: 0 0.4em 0.5em 0.4em;\n",
       "  box-sizing: border-box;\n",
       "  padding-bottom: 0.4em;\n",
       "  background-color: var(--sklearn-color-background);\n",
       "}\n",
       "\n",
       "#sk-container-id-1 div.sk-container {\n",
       "  /* jupyter's `normalize.less` sets `[hidden] { display: none; }`\n",
       "     but bootstrap.min.css set `[hidden] { display: none !important; }`\n",
       "     so we also need the `!important` here to be able to override the\n",
       "     default hidden behavior on the sphinx rendered scikit-learn.org.\n",
       "     See: https://github.com/scikit-learn/scikit-learn/issues/21755 */\n",
       "  display: inline-block !important;\n",
       "  position: relative;\n",
       "}\n",
       "\n",
       "#sk-container-id-1 div.sk-text-repr-fallback {\n",
       "  display: none;\n",
       "}\n",
       "\n",
       "div.sk-parallel-item,\n",
       "div.sk-serial,\n",
       "div.sk-item {\n",
       "  /* draw centered vertical line to link estimators */\n",
       "  background-image: linear-gradient(var(--sklearn-color-text-on-default-background), var(--sklearn-color-text-on-default-background));\n",
       "  background-size: 2px 100%;\n",
       "  background-repeat: no-repeat;\n",
       "  background-position: center center;\n",
       "}\n",
       "\n",
       "/* Parallel-specific style estimator block */\n",
       "\n",
       "#sk-container-id-1 div.sk-parallel-item::after {\n",
       "  content: \"\";\n",
       "  width: 100%;\n",
       "  border-bottom: 2px solid var(--sklearn-color-text-on-default-background);\n",
       "  flex-grow: 1;\n",
       "}\n",
       "\n",
       "#sk-container-id-1 div.sk-parallel {\n",
       "  display: flex;\n",
       "  align-items: stretch;\n",
       "  justify-content: center;\n",
       "  background-color: var(--sklearn-color-background);\n",
       "  position: relative;\n",
       "}\n",
       "\n",
       "#sk-container-id-1 div.sk-parallel-item {\n",
       "  display: flex;\n",
       "  flex-direction: column;\n",
       "}\n",
       "\n",
       "#sk-container-id-1 div.sk-parallel-item:first-child::after {\n",
       "  align-self: flex-end;\n",
       "  width: 50%;\n",
       "}\n",
       "\n",
       "#sk-container-id-1 div.sk-parallel-item:last-child::after {\n",
       "  align-self: flex-start;\n",
       "  width: 50%;\n",
       "}\n",
       "\n",
       "#sk-container-id-1 div.sk-parallel-item:only-child::after {\n",
       "  width: 0;\n",
       "}\n",
       "\n",
       "/* Serial-specific style estimator block */\n",
       "\n",
       "#sk-container-id-1 div.sk-serial {\n",
       "  display: flex;\n",
       "  flex-direction: column;\n",
       "  align-items: center;\n",
       "  background-color: var(--sklearn-color-background);\n",
       "  padding-right: 1em;\n",
       "  padding-left: 1em;\n",
       "}\n",
       "\n",
       "\n",
       "/* Toggleable style: style used for estimator/Pipeline/ColumnTransformer box that is\n",
       "clickable and can be expanded/collapsed.\n",
       "- Pipeline and ColumnTransformer use this feature and define the default style\n",
       "- Estimators will overwrite some part of the style using the `sk-estimator` class\n",
       "*/\n",
       "\n",
       "/* Pipeline and ColumnTransformer style (default) */\n",
       "\n",
       "#sk-container-id-1 div.sk-toggleable {\n",
       "  /* Default theme specific background. It is overwritten whether we have a\n",
       "  specific estimator or a Pipeline/ColumnTransformer */\n",
       "  background-color: var(--sklearn-color-background);\n",
       "}\n",
       "\n",
       "/* Toggleable label */\n",
       "#sk-container-id-1 label.sk-toggleable__label {\n",
       "  cursor: pointer;\n",
       "  display: flex;\n",
       "  width: 100%;\n",
       "  margin-bottom: 0;\n",
       "  padding: 0.5em;\n",
       "  box-sizing: border-box;\n",
       "  text-align: center;\n",
       "  align-items: start;\n",
       "  justify-content: space-between;\n",
       "  gap: 0.5em;\n",
       "}\n",
       "\n",
       "#sk-container-id-1 label.sk-toggleable__label .caption {\n",
       "  font-size: 0.6rem;\n",
       "  font-weight: lighter;\n",
       "  color: var(--sklearn-color-text-muted);\n",
       "}\n",
       "\n",
       "#sk-container-id-1 label.sk-toggleable__label-arrow:before {\n",
       "  /* Arrow on the left of the label */\n",
       "  content: \"▸\";\n",
       "  float: left;\n",
       "  margin-right: 0.25em;\n",
       "  color: var(--sklearn-color-icon);\n",
       "}\n",
       "\n",
       "#sk-container-id-1 label.sk-toggleable__label-arrow:hover:before {\n",
       "  color: var(--sklearn-color-text);\n",
       "}\n",
       "\n",
       "/* Toggleable content - dropdown */\n",
       "\n",
       "#sk-container-id-1 div.sk-toggleable__content {\n",
       "  max-height: 0;\n",
       "  max-width: 0;\n",
       "  overflow: hidden;\n",
       "  text-align: left;\n",
       "  /* unfitted */\n",
       "  background-color: var(--sklearn-color-unfitted-level-0);\n",
       "}\n",
       "\n",
       "#sk-container-id-1 div.sk-toggleable__content.fitted {\n",
       "  /* fitted */\n",
       "  background-color: var(--sklearn-color-fitted-level-0);\n",
       "}\n",
       "\n",
       "#sk-container-id-1 div.sk-toggleable__content pre {\n",
       "  margin: 0.2em;\n",
       "  border-radius: 0.25em;\n",
       "  color: var(--sklearn-color-text);\n",
       "  /* unfitted */\n",
       "  background-color: var(--sklearn-color-unfitted-level-0);\n",
       "}\n",
       "\n",
       "#sk-container-id-1 div.sk-toggleable__content.fitted pre {\n",
       "  /* unfitted */\n",
       "  background-color: var(--sklearn-color-fitted-level-0);\n",
       "}\n",
       "\n",
       "#sk-container-id-1 input.sk-toggleable__control:checked~div.sk-toggleable__content {\n",
       "  /* Expand drop-down */\n",
       "  max-height: 200px;\n",
       "  max-width: 100%;\n",
       "  overflow: auto;\n",
       "}\n",
       "\n",
       "#sk-container-id-1 input.sk-toggleable__control:checked~label.sk-toggleable__label-arrow:before {\n",
       "  content: \"▾\";\n",
       "}\n",
       "\n",
       "/* Pipeline/ColumnTransformer-specific style */\n",
       "\n",
       "#sk-container-id-1 div.sk-label input.sk-toggleable__control:checked~label.sk-toggleable__label {\n",
       "  color: var(--sklearn-color-text);\n",
       "  background-color: var(--sklearn-color-unfitted-level-2);\n",
       "}\n",
       "\n",
       "#sk-container-id-1 div.sk-label.fitted input.sk-toggleable__control:checked~label.sk-toggleable__label {\n",
       "  background-color: var(--sklearn-color-fitted-level-2);\n",
       "}\n",
       "\n",
       "/* Estimator-specific style */\n",
       "\n",
       "/* Colorize estimator box */\n",
       "#sk-container-id-1 div.sk-estimator input.sk-toggleable__control:checked~label.sk-toggleable__label {\n",
       "  /* unfitted */\n",
       "  background-color: var(--sklearn-color-unfitted-level-2);\n",
       "}\n",
       "\n",
       "#sk-container-id-1 div.sk-estimator.fitted input.sk-toggleable__control:checked~label.sk-toggleable__label {\n",
       "  /* fitted */\n",
       "  background-color: var(--sklearn-color-fitted-level-2);\n",
       "}\n",
       "\n",
       "#sk-container-id-1 div.sk-label label.sk-toggleable__label,\n",
       "#sk-container-id-1 div.sk-label label {\n",
       "  /* The background is the default theme color */\n",
       "  color: var(--sklearn-color-text-on-default-background);\n",
       "}\n",
       "\n",
       "/* On hover, darken the color of the background */\n",
       "#sk-container-id-1 div.sk-label:hover label.sk-toggleable__label {\n",
       "  color: var(--sklearn-color-text);\n",
       "  background-color: var(--sklearn-color-unfitted-level-2);\n",
       "}\n",
       "\n",
       "/* Label box, darken color on hover, fitted */\n",
       "#sk-container-id-1 div.sk-label.fitted:hover label.sk-toggleable__label.fitted {\n",
       "  color: var(--sklearn-color-text);\n",
       "  background-color: var(--sklearn-color-fitted-level-2);\n",
       "}\n",
       "\n",
       "/* Estimator label */\n",
       "\n",
       "#sk-container-id-1 div.sk-label label {\n",
       "  font-family: monospace;\n",
       "  font-weight: bold;\n",
       "  display: inline-block;\n",
       "  line-height: 1.2em;\n",
       "}\n",
       "\n",
       "#sk-container-id-1 div.sk-label-container {\n",
       "  text-align: center;\n",
       "}\n",
       "\n",
       "/* Estimator-specific */\n",
       "#sk-container-id-1 div.sk-estimator {\n",
       "  font-family: monospace;\n",
       "  border: 1px dotted var(--sklearn-color-border-box);\n",
       "  border-radius: 0.25em;\n",
       "  box-sizing: border-box;\n",
       "  margin-bottom: 0.5em;\n",
       "  /* unfitted */\n",
       "  background-color: var(--sklearn-color-unfitted-level-0);\n",
       "}\n",
       "\n",
       "#sk-container-id-1 div.sk-estimator.fitted {\n",
       "  /* fitted */\n",
       "  background-color: var(--sklearn-color-fitted-level-0);\n",
       "}\n",
       "\n",
       "/* on hover */\n",
       "#sk-container-id-1 div.sk-estimator:hover {\n",
       "  /* unfitted */\n",
       "  background-color: var(--sklearn-color-unfitted-level-2);\n",
       "}\n",
       "\n",
       "#sk-container-id-1 div.sk-estimator.fitted:hover {\n",
       "  /* fitted */\n",
       "  background-color: var(--sklearn-color-fitted-level-2);\n",
       "}\n",
       "\n",
       "/* Specification for estimator info (e.g. \"i\" and \"?\") */\n",
       "\n",
       "/* Common style for \"i\" and \"?\" */\n",
       "\n",
       ".sk-estimator-doc-link,\n",
       "a:link.sk-estimator-doc-link,\n",
       "a:visited.sk-estimator-doc-link {\n",
       "  float: right;\n",
       "  font-size: smaller;\n",
       "  line-height: 1em;\n",
       "  font-family: monospace;\n",
       "  background-color: var(--sklearn-color-background);\n",
       "  border-radius: 1em;\n",
       "  height: 1em;\n",
       "  width: 1em;\n",
       "  text-decoration: none !important;\n",
       "  margin-left: 0.5em;\n",
       "  text-align: center;\n",
       "  /* unfitted */\n",
       "  border: var(--sklearn-color-unfitted-level-1) 1pt solid;\n",
       "  color: var(--sklearn-color-unfitted-level-1);\n",
       "}\n",
       "\n",
       ".sk-estimator-doc-link.fitted,\n",
       "a:link.sk-estimator-doc-link.fitted,\n",
       "a:visited.sk-estimator-doc-link.fitted {\n",
       "  /* fitted */\n",
       "  border: var(--sklearn-color-fitted-level-1) 1pt solid;\n",
       "  color: var(--sklearn-color-fitted-level-1);\n",
       "}\n",
       "\n",
       "/* On hover */\n",
       "div.sk-estimator:hover .sk-estimator-doc-link:hover,\n",
       ".sk-estimator-doc-link:hover,\n",
       "div.sk-label-container:hover .sk-estimator-doc-link:hover,\n",
       ".sk-estimator-doc-link:hover {\n",
       "  /* unfitted */\n",
       "  background-color: var(--sklearn-color-unfitted-level-3);\n",
       "  color: var(--sklearn-color-background);\n",
       "  text-decoration: none;\n",
       "}\n",
       "\n",
       "div.sk-estimator.fitted:hover .sk-estimator-doc-link.fitted:hover,\n",
       ".sk-estimator-doc-link.fitted:hover,\n",
       "div.sk-label-container:hover .sk-estimator-doc-link.fitted:hover,\n",
       ".sk-estimator-doc-link.fitted:hover {\n",
       "  /* fitted */\n",
       "  background-color: var(--sklearn-color-fitted-level-3);\n",
       "  color: var(--sklearn-color-background);\n",
       "  text-decoration: none;\n",
       "}\n",
       "\n",
       "/* Span, style for the box shown on hovering the info icon */\n",
       ".sk-estimator-doc-link span {\n",
       "  display: none;\n",
       "  z-index: 9999;\n",
       "  position: relative;\n",
       "  font-weight: normal;\n",
       "  right: .2ex;\n",
       "  padding: .5ex;\n",
       "  margin: .5ex;\n",
       "  width: min-content;\n",
       "  min-width: 20ex;\n",
       "  max-width: 50ex;\n",
       "  color: var(--sklearn-color-text);\n",
       "  box-shadow: 2pt 2pt 4pt #999;\n",
       "  /* unfitted */\n",
       "  background: var(--sklearn-color-unfitted-level-0);\n",
       "  border: .5pt solid var(--sklearn-color-unfitted-level-3);\n",
       "}\n",
       "\n",
       ".sk-estimator-doc-link.fitted span {\n",
       "  /* fitted */\n",
       "  background: var(--sklearn-color-fitted-level-0);\n",
       "  border: var(--sklearn-color-fitted-level-3);\n",
       "}\n",
       "\n",
       ".sk-estimator-doc-link:hover span {\n",
       "  display: block;\n",
       "}\n",
       "\n",
       "/* \"?\"-specific style due to the `<a>` HTML tag */\n",
       "\n",
       "#sk-container-id-1 a.estimator_doc_link {\n",
       "  float: right;\n",
       "  font-size: 1rem;\n",
       "  line-height: 1em;\n",
       "  font-family: monospace;\n",
       "  background-color: var(--sklearn-color-background);\n",
       "  border-radius: 1rem;\n",
       "  height: 1rem;\n",
       "  width: 1rem;\n",
       "  text-decoration: none;\n",
       "  /* unfitted */\n",
       "  color: var(--sklearn-color-unfitted-level-1);\n",
       "  border: var(--sklearn-color-unfitted-level-1) 1pt solid;\n",
       "}\n",
       "\n",
       "#sk-container-id-1 a.estimator_doc_link.fitted {\n",
       "  /* fitted */\n",
       "  border: var(--sklearn-color-fitted-level-1) 1pt solid;\n",
       "  color: var(--sklearn-color-fitted-level-1);\n",
       "}\n",
       "\n",
       "/* On hover */\n",
       "#sk-container-id-1 a.estimator_doc_link:hover {\n",
       "  /* unfitted */\n",
       "  background-color: var(--sklearn-color-unfitted-level-3);\n",
       "  color: var(--sklearn-color-background);\n",
       "  text-decoration: none;\n",
       "}\n",
       "\n",
       "#sk-container-id-1 a.estimator_doc_link.fitted:hover {\n",
       "  /* fitted */\n",
       "  background-color: var(--sklearn-color-fitted-level-3);\n",
       "}\n",
       "</style><div id=\"sk-container-id-1\" class=\"sk-top-container\"><div class=\"sk-text-repr-fallback\"><pre>LabelEncoder()</pre><b>In a Jupyter environment, please rerun this cell to show the HTML representation or trust the notebook. <br />On GitHub, the HTML representation is unable to render, please try loading this page with nbviewer.org.</b></div><div class=\"sk-container\" hidden><div class=\"sk-item\"><div class=\"sk-estimator fitted sk-toggleable\"><input class=\"sk-toggleable__control sk-hidden--visually\" id=\"sk-estimator-id-1\" type=\"checkbox\" checked><label for=\"sk-estimator-id-1\" class=\"sk-toggleable__label fitted sk-toggleable__label-arrow\"><div><div>LabelEncoder</div></div><div><a class=\"sk-estimator-doc-link fitted\" rel=\"noreferrer\" target=\"_blank\" href=\"https://scikit-learn.org/1.6/modules/generated/sklearn.preprocessing.LabelEncoder.html\">?<span>Documentation for LabelEncoder</span></a><span class=\"sk-estimator-doc-link fitted\">i<span>Fitted</span></span></div></label><div class=\"sk-toggleable__content fitted\"><pre>LabelEncoder()</pre></div> </div></div></div></div>"
      ],
      "text/plain": [
       "LabelEncoder()"
      ]
     },
     "execution_count": 6,
     "metadata": {},
     "output_type": "execute_result"
    }
   ],
   "source": [
    "category_ids = [cat['id'] for cat in coco_data['categories']]\n",
    "label_encoder = LabelEncoder()\n",
    "label_encoder.fit(category_ids)"
   ]
  },
  {
   "cell_type": "markdown",
   "id": "15caf2f6",
   "metadata": {
    "id": "15caf2f6"
   },
   "source": [
    "# Nutrition Calculator"
   ]
  },
  {
   "cell_type": "code",
   "execution_count": 7,
   "id": "ac55a116",
   "metadata": {},
   "outputs": [],
   "source": [
    "def format_nutrition_info(nutrition_info):\n",
    "    if not nutrition_info:\n",
    "        return \"No nutritional information available\"\n",
    "    \n",
    "    formatted_text = \"Nutritional Information:\\n\\n\"\n",
    "    formatted_text += f\"Calories      : {nutrition_info['calories']:.2f} kcal\\n\"\n",
    "    formatted_text += f\"Fat           : {nutrition_info['fat']:.2f} g\\n\"\n",
    "    formatted_text += f\"Carbohydrates : {nutrition_info['carbohydrates']:.2f} g\\n\"\n",
    "    formatted_text += f\"Protein       : {nutrition_info['protein']:.2f} g\\n\"\n",
    "    formatted_text += f\"Calcium       : {nutrition_info['calcium']:.4f} g\\n\"\n",
    "    formatted_text += f\"Iron          : {nutrition_info['iron']:.6f} g\\n\"\n",
    "    formatted_text += f\"Magnesium     : {nutrition_info['magnesium']:.4f} g\\n\"\n",
    "    formatted_text += f\"Potassium     : {nutrition_info['potassium']:.4f} g\\n\"\n",
    "    formatted_text += f\"Sodium        : {nutrition_info['sodium']:.4f} g\\n\"\n",
    "    formatted_text += f\"Vitamin D     : {nutrition_info['vitamin_d']:.8f} g\\n\"\n",
    "    formatted_text += f\"Vitamin B12   : {nutrition_info['vitamin_b12']:.8f} g\"\n",
    "    \n",
    "    return formatted_text"
   ]
  },
  {
   "cell_type": "code",
   "execution_count": 8,
   "id": "29cb2ad9",
   "metadata": {
    "executionInfo": {
     "elapsed": 8,
     "status": "ok",
     "timestamp": 1748599321405,
     "user": {
      "displayName": "Clara Jessica",
      "userId": "17926309179290799269"
     },
     "user_tz": -420
    },
    "id": "29cb2ad9"
   },
   "outputs": [],
   "source": [
    "def calculate_nutrition(detection_results):\n",
    "    total_nutrition = {\n",
    "        'calories': 0,\n",
    "        'fat': 0,\n",
    "        'carbohydrates': 0,\n",
    "        'protein': 0,\n",
    "        'calcium': 0,\n",
    "        'iron': 0,\n",
    "        'magnesium': 0,\n",
    "        'potassium': 0,\n",
    "        'sodium': 0,\n",
    "        'vitamin_d': 0,\n",
    "        'vitamin_b12': 0\n",
    "    }\n",
    "\n",
    "    for result in detection_results:\n",
    "        food_type = result['category'].lower().replace(' ', '-')\n",
    "        matching_foods = nutrition_data[nutrition_data['food_type'] == food_type]\n",
    "\n",
    "        if not matching_foods.empty:\n",
    "            food_data = matching_foods.iloc[0]\n",
    "            for nutrient in total_nutrition.keys():\n",
    "                if nutrient in food_data:\n",
    "                    total_nutrition[nutrient] += food_data[nutrient]\n",
    "\n",
    "    return total_nutrition"
   ]
  },
  {
   "cell_type": "markdown",
   "id": "f0c514ce",
   "metadata": {
    "id": "f0c514ce"
   },
   "source": [
    "# Format Detection Results"
   ]
  },
  {
   "cell_type": "code",
   "execution_count": 9,
   "id": "a23af2c4",
   "metadata": {
    "executionInfo": {
     "elapsed": 38,
     "status": "ok",
     "timestamp": 1748599321446,
     "user": {
      "displayName": "Clara Jessica",
      "userId": "17926309179290799269"
     },
     "user_tz": -420
    },
    "id": "a23af2c4"
   },
   "outputs": [],
   "source": [
    "def format_detection_results(results):\n",
    "    if not results:\n",
    "        return \"No food detected\"\n",
    "\n",
    "    text_output = \"Detected Foods:\\n\"\n",
    "    for i, result in enumerate(results, 1):\n",
    "        text_output += f\"{i}. {result['category']} (Confidence: {result['confidence']:.2f})\\n\"\n",
    "\n",
    "    return text_output"
   ]
  },
  {
   "cell_type": "markdown",
   "id": "79121fd3",
   "metadata": {
    "id": "79121fd3"
   },
   "source": [
    "# Sliding Window Food Detection"
   ]
  },
  {
   "cell_type": "code",
   "execution_count": 10,
   "id": "52882f8d",
   "metadata": {
    "executionInfo": {
     "elapsed": 3,
     "status": "ok",
     "timestamp": 1748599321452,
     "user": {
      "displayName": "Clara Jessica",
      "userId": "17926309179290799269"
     },
     "user_tz": -420
    },
    "id": "52882f8d"
   },
   "outputs": [],
   "source": [
    "def detect_food_in_image(image):\n",
    "    image = np.array(image.convert(\"RGB\"))\n",
    "    original_image = image.copy()\n",
    "    results = []\n",
    "\n",
    "    window_sizes = [\n",
    "        (image.shape[1] // 2, image.shape[0] // 2),\n",
    "        (image.shape[1] // 3, image.shape[0] // 3),\n",
    "        (image.shape[1] // 4, image.shape[0] // 4)\n",
    "    ]\n",
    "    step_divisors = [2, 4, 8, 12]\n",
    "\n",
    "    all_windows = []\n",
    "    all_coords = []\n",
    "\n",
    "    for win_w, win_h in window_sizes:\n",
    "        if win_w < 50 or win_h < 50:\n",
    "            continue\n",
    "        for divisor in step_divisors:\n",
    "            step_size = max(1, min(image.shape[0], image.shape[1]) // divisor)\n",
    "            for y in range(0, image.shape[0] - win_h + 1, step_size):\n",
    "                for x in range(0, image.shape[1] - win_w + 1, step_size):\n",
    "                    window = original_image[y:y+win_h, x:x+win_w]\n",
    "                    resized = cv2.resize(window, (IMG_SIZE, IMG_SIZE))\n",
    "                    input_img = preprocess_input(resized.astype(np.float32))\n",
    "                    all_windows.append(input_img)\n",
    "                    all_coords.append((x, y, win_w, win_h))\n",
    "\n",
    "    if not all_windows:\n",
    "        return Image.fromarray(original_image), \"No food detected\", {}\n",
    "\n",
    "    all_windows = np.stack(all_windows)\n",
    "    batch_size = 64\n",
    "    predictions = []\n",
    "    for i in range(0, len(all_windows), batch_size):\n",
    "        batch = all_windows[i:i+batch_size]\n",
    "        preds = model.predict(batch, verbose=0)\n",
    "        predictions.extend(preds)\n",
    "\n",
    "    sliding_window_results = []\n",
    "    for pred, (x, y, w, h) in zip(predictions, all_coords):\n",
    "        class_idx = np.argmax(pred)\n",
    "        confidence = pred[class_idx]\n",
    "        if confidence < 0.9:\n",
    "            continue\n",
    "        predicted_class = label_encoder.inverse_transform([class_idx])[0]\n",
    "        category_name = next((cat['name'] for cat in coco_data['categories'] if cat['id'] == predicted_class), \"Unknown\")\n",
    "        sliding_window_results.append({\n",
    "            'class_idx': class_idx,\n",
    "            'category': category_name,\n",
    "            'confidence': float(confidence),\n",
    "            'bbox': [x, y, w, h]\n",
    "        })\n",
    "\n",
    "    sliding_window_results.sort(key=lambda x: x['confidence'], reverse=True)\n",
    "    keep_results = []\n",
    "\n",
    "    for current in sliding_window_results:\n",
    "        x1, y1, w1, h1 = current['bbox']\n",
    "        x2, y2 = x1 + w1, y1 + h1\n",
    "        overlaps = False\n",
    "        for kept in keep_results:\n",
    "            x3, y3, w2, h2 = kept['bbox']\n",
    "            x4, y4 = x3 + w2, y3 + h2\n",
    "            inter_x = max(0, min(x2, x4) - max(x1, x3))\n",
    "            inter_y = max(0, min(y2, y4) - max(y1, y3))\n",
    "            intersection = inter_x * inter_y\n",
    "            union = w1 * h1 + w2 * h2 - intersection\n",
    "            iou = intersection / union if union > 0 else 0\n",
    "            if iou > 0.1 and current['category'] == kept['category']:\n",
    "                overlaps = True\n",
    "                break\n",
    "        if not overlaps:\n",
    "            keep_results.append(current)\n",
    "\n",
    "    for result in keep_results:\n",
    "        x, y, w, h = result['bbox']\n",
    "        category_name = result['category']\n",
    "        confidence = result['confidence']\n",
    "        cv2.rectangle(original_image, (x, y), (x + w, y + h), (0, 0, 255), 2)\n",
    "        cv2.putText(original_image, f\"{category_name} ({confidence:.2f})\",\n",
    "                    (x, y - 10), cv2.FONT_HERSHEY_SIMPLEX, 0.6, (255, 255, 255), 2)\n",
    "\n",
    "        results.append({\n",
    "            'category': result['category'],\n",
    "            'confidence': result['confidence']\n",
    "        })\n",
    "\n",
    "    detection_text = format_detection_results(results)\n",
    "    nutrition_info = calculate_nutrition(results)\n",
    "    nutrition_text = format_nutrition_info(nutrition_info)\n",
    "\n",
    "    return Image.fromarray(original_image), detection_text, nutrition_text"
   ]
  },
  {
   "cell_type": "markdown",
   "id": "493a52b1",
   "metadata": {
    "id": "493a52b1"
   },
   "source": [
    "# Gradio UI"
   ]
  },
  {
   "cell_type": "code",
   "execution_count": 11,
   "id": "56e8b1e4",
   "metadata": {
    "executionInfo": {
     "elapsed": 888,
     "status": "ok",
     "timestamp": 1748599322343,
     "user": {
      "displayName": "Clara Jessica",
      "userId": "17926309179290799269"
     },
     "user_tz": -420
    },
    "id": "56e8b1e4"
   },
   "outputs": [],
   "source": [
    "import gradio as gr\n",
    "\n",
    "custom_theme = gr.themes.Base(\n",
    "    font=gr.themes.GoogleFont(\"Poppins\"),\n",
    "    primary_hue=\"teal\"\n",
    ")\n",
    "\n",
    "interface = gr.Interface(\n",
    "    fn=detect_food_in_image,\n",
    "    inputs=gr.Image(type=\"pil\", label=\"📤 Upload Your Food Image\"),\n",
    "    outputs=[\n",
    "        gr.Image(label=\"📷 Original Image\"),\n",
    "        gr.Textbox(label=\"🍽️ Detected Foods\"),\n",
    "        gr.Textbox(label=\"📊 Nutritional Information\", elem_classes=\"monospace-output\") \n",
    "    ],\n",
    "    title=\"🍱 Food Detection with Nutritional Analysis\",\n",
    "    description=(\n",
    "        \"Upload a food image to detect items using a custom-trained EfficientNetB0 model. \"\n",
    "        \"The system will identify food types and estimate total nutritional values (calories, protein, etc).\"\n",
    "    ),\n",
    "    theme=custom_theme,\n",
    "    flagging_mode=\"never\",\n",
    "    css=\".monospace-output textarea { font-family: monospace !important; white-space: pre !important; }\"\n",
    ")"
   ]
  },
  {
   "cell_type": "markdown",
   "id": "28b825b0",
   "metadata": {
    "id": "28b825b0"
   },
   "source": [
    "# Launch App"
   ]
  },
  {
   "cell_type": "code",
   "execution_count": 12,
   "id": "946922ec",
   "metadata": {
    "colab": {
     "base_uri": "https://localhost:8080/",
     "height": 610
    },
    "executionInfo": {
     "elapsed": 2496,
     "status": "ok",
     "timestamp": 1748599324833,
     "user": {
      "displayName": "Clara Jessica",
      "userId": "17926309179290799269"
     },
     "user_tz": -420
    },
    "id": "946922ec",
    "outputId": "92a0932c-78e9-43a0-9066-e27755ba2894"
   },
   "outputs": [
    {
     "name": "stdout",
     "output_type": "stream",
     "text": [
      "* Running on local URL:  http://127.0.0.1:7860\n",
      "* Running on public URL: https://27976dbfeb6da8e851.gradio.live\n",
      "\n",
      "This share link expires in 1 week. For free permanent hosting and GPU upgrades, run `gradio deploy` from the terminal in the working directory to deploy to Hugging Face Spaces (https://huggingface.co/spaces)\n"
     ]
    },
    {
     "data": {
      "text/html": [
       "<div><iframe src=\"https://27976dbfeb6da8e851.gradio.live\" width=\"100%\" height=\"500\" allow=\"autoplay; camera; microphone; clipboard-read; clipboard-write;\" frameborder=\"0\" allowfullscreen></iframe></div>"
      ],
      "text/plain": [
       "<IPython.core.display.HTML object>"
      ]
     },
     "metadata": {},
     "output_type": "display_data"
    },
    {
     "data": {
      "text/plain": []
     },
     "execution_count": 12,
     "metadata": {},
     "output_type": "execute_result"
    }
   ],
   "source": [
    "interface.launch(share=True)"
   ]
  }
 ],
 "metadata": {
  "accelerator": "GPU",
  "colab": {
   "gpuType": "T4",
   "provenance": []
  },
  "kernelspec": {
   "display_name": "Python 3",
   "language": "python",
   "name": "python3"
  },
  "language_info": {
   "codemirror_mode": {
    "name": "ipython",
    "version": 3
   },
   "file_extension": ".py",
   "mimetype": "text/x-python",
   "name": "python",
   "nbconvert_exporter": "python",
   "pygments_lexer": "ipython3",
   "version": "3.11.0"
  }
 },
 "nbformat": 4,
 "nbformat_minor": 5
}
