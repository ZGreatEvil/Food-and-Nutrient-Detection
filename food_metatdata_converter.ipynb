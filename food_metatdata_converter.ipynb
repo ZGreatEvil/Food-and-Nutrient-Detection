{
 "cells": [
  {
   "cell_type": "markdown",
   "id": "20bedae0",
   "metadata": {
    "id": "20bedae0"
   },
   "source": [
    "# This code is used to create reference list what food contain what nutrients"
   ]
  },
  {
   "cell_type": "markdown",
   "id": "35c0a8cd",
   "metadata": {
    "id": "35c0a8cd"
   },
   "source": [
    "# Importing Required Libraries"
   ]
  },
  {
   "cell_type": "code",
   "execution_count": 1,
   "id": "178a0f56",
   "metadata": {
    "executionInfo": {
     "elapsed": 4644,
     "status": "ok",
     "timestamp": 1748595780950,
     "user": {
      "displayName": "Clara Jessica",
      "userId": "17926309179290799269"
     },
     "user_tz": -420
    },
    "id": "178a0f56"
   },
   "outputs": [],
   "source": [
    "import os\n",
    "import pandas as pd\n",
    "import numpy as np\n",
    "import matplotlib.pyplot as plt\n",
    "import seaborn as sns\n",
    "from PIL import Image\n",
    "import json"
   ]
  },
  {
   "cell_type": "markdown",
   "id": "1b340727",
   "metadata": {
    "id": "1b340727"
   },
   "source": [
    "# Define Paths for Datasets and Metadata"
   ]
  },
  {
   "cell_type": "code",
   "execution_count": 2,
   "id": "6b305626",
   "metadata": {
    "executionInfo": {
     "elapsed": 10,
     "status": "ok",
     "timestamp": 1748595800832,
     "user": {
      "displayName": "Clara Jessica",
      "userId": "17926309179290799269"
     },
     "user_tz": -420
    },
    "id": "6b305626"
   },
   "outputs": [],
   "source": [
    "base_path = 'nutritionverse-data'\n",
    "images_path = os.path.join(base_path, 'nutritionverse-manual/nutritionverse-manual/images')\n",
    "metadata_path = os.path.join(base_path, 'nutritionverse_dish_metadata3.csv')\n",
    "coco_json_path = os.path.join(base_path, 'nutritionverse-manual/nutritionverse-manual/images/_annotations.coco.json')\n",
    "splits_path = os.path.join(base_path, 'nutritionverse-manual/nutritionverse-manual/updated-manual-dataset-splits.csv')"
   ]
  },
  {
   "cell_type": "markdown",
   "id": "af252721",
   "metadata": {
    "id": "af252721"
   },
   "source": [
    "# Load COCO Image Metadata"
   ]
  },
  {
   "cell_type": "code",
   "execution_count": 3,
   "id": "31f3c924",
   "metadata": {
    "colab": {
     "base_uri": "https://localhost:8080/"
    },
    "executionInfo": {
     "elapsed": 6114,
     "status": "ok",
     "timestamp": 1748595806953,
     "user": {
      "displayName": "Clara Jessica",
      "userId": "17926309179290799269"
     },
     "user_tz": -420
    },
    "id": "31f3c924",
    "outputId": "d22b0356-391d-4601-c92b-01d093ba9d6d"
   },
   "outputs": [
    {
     "name": "stdout",
     "output_type": "stream",
     "text": [
      "COCO metadata loaded with 905 images and 4392 annotations\n"
     ]
    }
   ],
   "source": [
    "with open(coco_json_path, 'r') as f:\n",
    "    coco_data = json.load(f)\n",
    "\n",
    "print(f\"COCO metadata loaded with {len(coco_data['images'])} images and {len(coco_data['annotations'])} annotations\")"
   ]
  },
  {
   "cell_type": "markdown",
   "id": "183f5b45",
   "metadata": {
    "id": "183f5b45"
   },
   "source": [
    "# Inspect COCO Images Structure"
   ]
  },
  {
   "cell_type": "code",
   "execution_count": 4,
   "id": "bbfa0179",
   "metadata": {
    "colab": {
     "base_uri": "https://localhost:8080/"
    },
    "executionInfo": {
     "elapsed": 15,
     "status": "ok",
     "timestamp": 1748595806973,
     "user": {
      "displayName": "Clara Jessica",
      "userId": "17926309179290799269"
     },
     "user_tz": -420
    },
    "id": "bbfa0179",
    "outputId": "af0974b8-ee48-42bf-9314-78a28490ae9d"
   },
   "outputs": [
    {
     "name": "stdout",
     "output_type": "stream",
     "text": [
      "COCO images structure:\n",
      "['id', 'license', 'file_name', 'height', 'width', 'date_captured']\n"
     ]
    }
   ],
   "source": [
    "# Optionally extract image information from COCO format\n",
    "coco_images = pd.DataFrame(coco_data['images'])\n",
    "print(\"COCO images structure:\")\n",
    "print(coco_images.columns.tolist())"
   ]
  },
  {
   "cell_type": "markdown",
   "id": "de342fee",
   "metadata": {
    "id": "de342fee"
   },
   "source": [
    "# Create Mapping from Image ID to File Name"
   ]
  },
  {
   "cell_type": "code",
   "execution_count": 5,
   "id": "0318f9d5",
   "metadata": {
    "colab": {
     "base_uri": "https://localhost:8080/"
    },
    "executionInfo": {
     "elapsed": 10,
     "status": "ok",
     "timestamp": 1748595806985,
     "user": {
      "displayName": "Clara Jessica",
      "userId": "17926309179290799269"
     },
     "user_tz": -420
    },
    "id": "0318f9d5",
    "outputId": "938eca1a-b7ef-4365-e829-661f86a62a83"
   },
   "outputs": [
    {
     "name": "stdout",
     "output_type": "stream",
     "text": [
      "Created mapping for 905 image IDs to filenames\n"
     ]
    }
   ],
   "source": [
    "image_id_to_filename = {img['id']: img['file_name'] for img in coco_data['images']}\n",
    "print(f\"Created mapping for {len(image_id_to_filename)} image IDs to filenames\")"
   ]
  },
  {
   "cell_type": "markdown",
   "id": "0990c1d8",
   "metadata": {
    "id": "0990c1d8"
   },
   "source": [
    "# Load Dataset Splits"
   ]
  },
  {
   "cell_type": "code",
   "execution_count": 6,
   "id": "e27fb0d8",
   "metadata": {
    "colab": {
     "base_uri": "https://localhost:8080/"
    },
    "executionInfo": {
     "elapsed": 295,
     "status": "ok",
     "timestamp": 1748595807284,
     "user": {
      "displayName": "Clara Jessica",
      "userId": "17926309179290799269"
     },
     "user_tz": -420
    },
    "id": "e27fb0d8",
    "outputId": "75343e80-8b9c-46b3-80b8-1bd8e8c1a382"
   },
   "outputs": [
    {
     "name": "stdout",
     "output_type": "stream",
     "text": [
      "Dataset splits loaded with 889 entries\n",
      "Split distribution: {'Train': 624, 'Val': 265}\n"
     ]
    }
   ],
   "source": [
    "# Load dataset splits if available\n",
    "if os.path.exists(splits_path):\n",
    "    splits_df = pd.read_csv(splits_path)\n",
    "    print(f\"Dataset splits loaded with {len(splits_df)} entries\")\n",
    "    print(f\"Split distribution: {splits_df['category'].value_counts().to_dict()}\")\n",
    "else:\n",
    "    print(\"Dataset splits file not found. Will use random splitting.\")\n",
    "    splits_df = None"
   ]
  },
  {
   "cell_type": "markdown",
   "id": "77d90da3",
   "metadata": {
    "id": "77d90da3"
   },
   "source": [
    "# Load Dish Metadata"
   ]
  },
  {
   "cell_type": "code",
   "execution_count": 7,
   "id": "df095674",
   "metadata": {
    "colab": {
     "base_uri": "https://localhost:8080/",
     "height": 290
    },
    "executionInfo": {
     "elapsed": 412,
     "status": "ok",
     "timestamp": 1748595807912,
     "user": {
      "displayName": "Clara Jessica",
      "userId": "17926309179290799269"
     },
     "user_tz": -420
    },
    "id": "df095674",
    "outputId": "5c98b8e4-9d47-4b93-8372-0961431b5e6a"
   },
   "outputs": [
    {
     "name": "stdout",
     "output_type": "stream",
     "text": [
      "Dataset Metadata Overview:\n",
      "Total entries: 251\n"
     ]
    },
    {
     "data": {
      "text/html": [
       "<div>\n",
       "<style scoped>\n",
       "    .dataframe tbody tr th:only-of-type {\n",
       "        vertical-align: middle;\n",
       "    }\n",
       "\n",
       "    .dataframe tbody tr th {\n",
       "        vertical-align: top;\n",
       "    }\n",
       "\n",
       "    .dataframe thead th {\n",
       "        text-align: right;\n",
       "    }\n",
       "</style>\n",
       "<table border=\"1\" class=\"dataframe\">\n",
       "  <thead>\n",
       "    <tr style=\"text-align: right;\">\n",
       "      <th></th>\n",
       "      <th>dish_id</th>\n",
       "      <th>total_food_weight</th>\n",
       "      <th>total_calories</th>\n",
       "      <th>total_fats</th>\n",
       "      <th>total_carbohydrates</th>\n",
       "      <th>total_protein</th>\n",
       "      <th>total_calcium</th>\n",
       "      <th>total_iron</th>\n",
       "      <th>total_magnesium</th>\n",
       "      <th>total_potassium</th>\n",
       "      <th>...</th>\n",
       "      <th>fat(g)_7</th>\n",
       "      <th>carbohydrates(g)_7</th>\n",
       "      <th>protein(g)_7</th>\n",
       "      <th>calcium(mg)_7</th>\n",
       "      <th>iron(mg)_7</th>\n",
       "      <th>magnesium(mg)_7</th>\n",
       "      <th>potassium(mg)_7</th>\n",
       "      <th>sodium(mg)_7</th>\n",
       "      <th>vitamin_d(µg)_7</th>\n",
       "      <th>vitamin_b12(µg)_7</th>\n",
       "    </tr>\n",
       "  </thead>\n",
       "  <tbody>\n",
       "    <tr>\n",
       "      <th>0</th>\n",
       "      <td>1</td>\n",
       "      <td>165.0</td>\n",
       "      <td>95.73</td>\n",
       "      <td>0.3336</td>\n",
       "      <td>22.7958</td>\n",
       "      <td>0.5049</td>\n",
       "      <td>0.01233</td>\n",
       "      <td>0.000199</td>\n",
       "      <td>0.00888</td>\n",
       "      <td>0.19104</td>\n",
       "      <td>...</td>\n",
       "      <td>NaN</td>\n",
       "      <td>NaN</td>\n",
       "      <td>NaN</td>\n",
       "      <td>NaN</td>\n",
       "      <td>NaN</td>\n",
       "      <td>NaN</td>\n",
       "      <td>NaN</td>\n",
       "      <td>NaN</td>\n",
       "      <td>NaN</td>\n",
       "      <td>NaN</td>\n",
       "    </tr>\n",
       "    <tr>\n",
       "      <th>1</th>\n",
       "      <td>2</td>\n",
       "      <td>127.0</td>\n",
       "      <td>186.99</td>\n",
       "      <td>1.8662</td>\n",
       "      <td>21.1603</td>\n",
       "      <td>19.8902</td>\n",
       "      <td>0.11461</td>\n",
       "      <td>0.001804</td>\n",
       "      <td>0.05289</td>\n",
       "      <td>0.24050</td>\n",
       "      <td>...</td>\n",
       "      <td>NaN</td>\n",
       "      <td>NaN</td>\n",
       "      <td>NaN</td>\n",
       "      <td>NaN</td>\n",
       "      <td>NaN</td>\n",
       "      <td>NaN</td>\n",
       "      <td>NaN</td>\n",
       "      <td>NaN</td>\n",
       "      <td>NaN</td>\n",
       "      <td>NaN</td>\n",
       "    </tr>\n",
       "    <tr>\n",
       "      <th>2</th>\n",
       "      <td>3</td>\n",
       "      <td>156.0</td>\n",
       "      <td>92.04</td>\n",
       "      <td>0.3120</td>\n",
       "      <td>21.9336</td>\n",
       "      <td>0.4212</td>\n",
       "      <td>0.00936</td>\n",
       "      <td>0.000172</td>\n",
       "      <td>0.00780</td>\n",
       "      <td>0.16224</td>\n",
       "      <td>...</td>\n",
       "      <td>NaN</td>\n",
       "      <td>NaN</td>\n",
       "      <td>NaN</td>\n",
       "      <td>NaN</td>\n",
       "      <td>NaN</td>\n",
       "      <td>NaN</td>\n",
       "      <td>NaN</td>\n",
       "      <td>NaN</td>\n",
       "      <td>NaN</td>\n",
       "      <td>NaN</td>\n",
       "    </tr>\n",
       "    <tr>\n",
       "      <th>3</th>\n",
       "      <td>4</td>\n",
       "      <td>84.0</td>\n",
       "      <td>74.76</td>\n",
       "      <td>0.7224</td>\n",
       "      <td>0.0000</td>\n",
       "      <td>15.9600</td>\n",
       "      <td>0.08064</td>\n",
       "      <td>0.000244</td>\n",
       "      <td>0.03612</td>\n",
       "      <td>0.19320</td>\n",
       "      <td>...</td>\n",
       "      <td>NaN</td>\n",
       "      <td>NaN</td>\n",
       "      <td>NaN</td>\n",
       "      <td>NaN</td>\n",
       "      <td>NaN</td>\n",
       "      <td>NaN</td>\n",
       "      <td>NaN</td>\n",
       "      <td>NaN</td>\n",
       "      <td>NaN</td>\n",
       "      <td>NaN</td>\n",
       "    </tr>\n",
       "    <tr>\n",
       "      <th>4</th>\n",
       "      <td>5</td>\n",
       "      <td>307.0</td>\n",
       "      <td>399.10</td>\n",
       "      <td>16.3631</td>\n",
       "      <td>42.4888</td>\n",
       "      <td>20.0778</td>\n",
       "      <td>0.34077</td>\n",
       "      <td>0.003899</td>\n",
       "      <td>0.06447</td>\n",
       "      <td>0.55874</td>\n",
       "      <td>...</td>\n",
       "      <td>NaN</td>\n",
       "      <td>NaN</td>\n",
       "      <td>NaN</td>\n",
       "      <td>NaN</td>\n",
       "      <td>NaN</td>\n",
       "      <td>NaN</td>\n",
       "      <td>NaN</td>\n",
       "      <td>NaN</td>\n",
       "      <td>NaN</td>\n",
       "      <td>NaN</td>\n",
       "    </tr>\n",
       "  </tbody>\n",
       "</table>\n",
       "<p>5 rows × 104 columns</p>\n",
       "</div>"
      ],
      "text/plain": [
       "   dish_id  total_food_weight  total_calories  total_fats  \\\n",
       "0        1              165.0           95.73      0.3336   \n",
       "1        2              127.0          186.99      1.8662   \n",
       "2        3              156.0           92.04      0.3120   \n",
       "3        4               84.0           74.76      0.7224   \n",
       "4        5              307.0          399.10     16.3631   \n",
       "\n",
       "   total_carbohydrates  total_protein  total_calcium  total_iron  \\\n",
       "0              22.7958         0.5049        0.01233    0.000199   \n",
       "1              21.1603        19.8902        0.11461    0.001804   \n",
       "2              21.9336         0.4212        0.00936    0.000172   \n",
       "3               0.0000        15.9600        0.08064    0.000244   \n",
       "4              42.4888        20.0778        0.34077    0.003899   \n",
       "\n",
       "   total_magnesium  total_potassium  ...  fat(g)_7  carbohydrates(g)_7  \\\n",
       "0          0.00888          0.19104  ...       NaN                 NaN   \n",
       "1          0.05289          0.24050  ...       NaN                 NaN   \n",
       "2          0.00780          0.16224  ...       NaN                 NaN   \n",
       "3          0.03612          0.19320  ...       NaN                 NaN   \n",
       "4          0.06447          0.55874  ...       NaN                 NaN   \n",
       "\n",
       "   protein(g)_7 calcium(mg)_7  iron(mg)_7  magnesium(mg)_7  potassium(mg)_7  \\\n",
       "0           NaN           NaN         NaN              NaN              NaN   \n",
       "1           NaN           NaN         NaN              NaN              NaN   \n",
       "2           NaN           NaN         NaN              NaN              NaN   \n",
       "3           NaN           NaN         NaN              NaN              NaN   \n",
       "4           NaN           NaN         NaN              NaN              NaN   \n",
       "\n",
       "   sodium(mg)_7  vitamin_d(µg)_7  vitamin_b12(µg)_7  \n",
       "0           NaN              NaN                NaN  \n",
       "1           NaN              NaN                NaN  \n",
       "2           NaN              NaN                NaN  \n",
       "3           NaN              NaN                NaN  \n",
       "4           NaN              NaN                NaN  \n",
       "\n",
       "[5 rows x 104 columns]"
      ]
     },
     "execution_count": 7,
     "metadata": {},
     "output_type": "execute_result"
    }
   ],
   "source": [
    "# Load metadata\n",
    "metadata_df = pd.read_csv(metadata_path)\n",
    "\n",
    "# Display first few rows of metadata\n",
    "print(\"Dataset Metadata Overview:\")\n",
    "print(f\"Total entries: {len(metadata_df)}\")\n",
    "metadata_df.head()"
   ]
  },
  {
   "cell_type": "markdown",
   "id": "87ef6e2e",
   "metadata": {
    "id": "87ef6e2e"
   },
   "source": [
    "# Extract Nutritional Information Per Food Type"
   ]
  },
  {
   "cell_type": "code",
   "execution_count": 8,
   "id": "b5457c58",
   "metadata": {
    "executionInfo": {
     "elapsed": 12,
     "status": "ok",
     "timestamp": 1748595807920,
     "user": {
      "displayName": "Clara Jessica",
      "userId": "17926309179290799269"
     },
     "user_tz": -420
    },
    "id": "b5457c58"
   },
   "outputs": [],
   "source": [
    "food_nutrient = {}\n",
    "for index, item in metadata_df.iterrows():\n",
    "    for i in range(1, 8):\n",
    "        food_type_col = f'food_item_type_{i}'\n",
    "\n",
    "        if food_type_col not in item or pd.isna(item[food_type_col]):\n",
    "            continue\n",
    "\n",
    "        food_type = item[food_type_col]\n",
    "\n",
    "        if food_type not in food_nutrient:\n",
    "            food_nutrient[food_type] = {\n",
    "                'calories': 0,\n",
    "                'fat': 0,\n",
    "                'carbohydrates': 0,\n",
    "                'protein': 0,\n",
    "                'calcium': 0,\n",
    "                'iron': 0,\n",
    "                'magnesium': 0,\n",
    "                'potassium': 0,\n",
    "                'sodium': 0,\n",
    "                'vitamin_d': 0,\n",
    "                'vitamin_b12': 0\n",
    "            }\n",
    "\n",
    "        if pd.notna(item[f'calories(kCal)_{i}']):\n",
    "            food_nutrient[food_type]['calories'] = item[f'calories(kCal)_{i}']\n",
    "        if pd.notna(item[f'fat(g)_{i}']):\n",
    "            food_nutrient[food_type]['fat'] = item[f'fat(g)_{i}']\n",
    "        if pd.notna(item[f'carbohydrates(g)_{i}']):\n",
    "            food_nutrient[food_type]['carbohydrates'] = item[f'carbohydrates(g)_{i}']\n",
    "        if pd.notna(item[f'protein(g)_{i}']):\n",
    "            food_nutrient[food_type]['protein'] = item[f'protein(g)_{i}']\n",
    "        if pd.notna(item[f'calcium(mg)_{i}']):\n",
    "            food_nutrient[food_type]['calcium'] = item[f'calcium(mg)_{i}']\n",
    "        if pd.notna(item[f'iron(mg)_{i}']):\n",
    "            food_nutrient[food_type]['iron'] = item[f'iron(mg)_{i}']\n",
    "        if pd.notna(item[f'magnesium(mg)_{i}']):\n",
    "            food_nutrient[food_type]['magnesium'] = item[f'magnesium(mg)_{i}']\n",
    "        if pd.notna(item[f'potassium(mg)_{i}']):\n",
    "            food_nutrient[food_type]['potassium'] = item[f'potassium(mg)_{i}']\n",
    "        if pd.notna(item[f'sodium(mg)_{i}']):\n",
    "            food_nutrient[food_type]['sodium'] = item[f'sodium(mg)_{i}']\n",
    "        if pd.notna(item[f'vitamin_d(µg)_{i}']):\n",
    "            food_nutrient[food_type]['vitamin_d'] = item[f'vitamin_d(µg)_{i}']\n",
    "        if pd.notna(item[f'vitamin_b12(µg)_{i}']):\n",
    "            food_nutrient[food_type]['vitamin_b12'] = item[f'vitamin_b12(µg)_{i}']\n"
   ]
  },
  {
   "cell_type": "markdown",
   "id": "46c763a0",
   "metadata": {
    "id": "46c763a0"
   },
   "source": [
    "# Create and Save Final Nutritional DataFrame"
   ]
  },
  {
   "cell_type": "code",
   "execution_count": 9,
   "id": "acda53b9",
   "metadata": {
    "colab": {
     "base_uri": "https://localhost:8080/",
     "height": 206
    },
    "executionInfo": {
     "elapsed": 183,
     "status": "ok",
     "timestamp": 1748595808105,
     "user": {
      "displayName": "Clara Jessica",
      "userId": "17926309179290799269"
     },
     "user_tz": -420
    },
    "id": "acda53b9",
    "outputId": "66fa22ea-b0b0-45ae-f9c1-01b1e6959af2"
   },
   "outputs": [
    {
     "data": {
      "text/html": [
       "<div>\n",
       "<style scoped>\n",
       "    .dataframe tbody tr th:only-of-type {\n",
       "        vertical-align: middle;\n",
       "    }\n",
       "\n",
       "    .dataframe tbody tr th {\n",
       "        vertical-align: top;\n",
       "    }\n",
       "\n",
       "    .dataframe thead th {\n",
       "        text-align: right;\n",
       "    }\n",
       "</style>\n",
       "<table border=\"1\" class=\"dataframe\">\n",
       "  <thead>\n",
       "    <tr style=\"text-align: right;\">\n",
       "      <th></th>\n",
       "      <th>food_type</th>\n",
       "      <th>calories</th>\n",
       "      <th>fat</th>\n",
       "      <th>carbohydrates</th>\n",
       "      <th>protein</th>\n",
       "      <th>calcium</th>\n",
       "      <th>iron</th>\n",
       "      <th>magnesium</th>\n",
       "      <th>potassium</th>\n",
       "      <th>sodium</th>\n",
       "      <th>vitamin_d</th>\n",
       "      <th>vitamin_b12</th>\n",
       "    </tr>\n",
       "  </thead>\n",
       "  <tbody>\n",
       "    <tr>\n",
       "      <th>0</th>\n",
       "      <td>red-apple</td>\n",
       "      <td>92.04</td>\n",
       "      <td>0.3120</td>\n",
       "      <td>21.9336</td>\n",
       "      <td>0.4212</td>\n",
       "      <td>0.00936</td>\n",
       "      <td>0.000172</td>\n",
       "      <td>0.00780</td>\n",
       "      <td>0.16224</td>\n",
       "      <td>0.00156</td>\n",
       "      <td>0.000000e+00</td>\n",
       "      <td>0.000000e+00</td>\n",
       "    </tr>\n",
       "    <tr>\n",
       "      <th>1</th>\n",
       "      <td>carrot</td>\n",
       "      <td>3.69</td>\n",
       "      <td>0.0216</td>\n",
       "      <td>0.8622</td>\n",
       "      <td>0.0837</td>\n",
       "      <td>0.00297</td>\n",
       "      <td>0.000027</td>\n",
       "      <td>0.00108</td>\n",
       "      <td>0.02880</td>\n",
       "      <td>0.00621</td>\n",
       "      <td>0.000000e+00</td>\n",
       "      <td>0.000000e+00</td>\n",
       "    </tr>\n",
       "    <tr>\n",
       "      <th>2</th>\n",
       "      <td>half-bread-loaf</td>\n",
       "      <td>112.23</td>\n",
       "      <td>1.1438</td>\n",
       "      <td>21.1603</td>\n",
       "      <td>3.9302</td>\n",
       "      <td>0.03397</td>\n",
       "      <td>0.001561</td>\n",
       "      <td>0.01677</td>\n",
       "      <td>0.04730</td>\n",
       "      <td>0.22059</td>\n",
       "      <td>1.290000e-07</td>\n",
       "      <td>1.720000e-08</td>\n",
       "    </tr>\n",
       "    <tr>\n",
       "      <th>3</th>\n",
       "      <td>lobster</td>\n",
       "      <td>74.76</td>\n",
       "      <td>0.7224</td>\n",
       "      <td>0.0000</td>\n",
       "      <td>15.9600</td>\n",
       "      <td>0.08064</td>\n",
       "      <td>0.000244</td>\n",
       "      <td>0.03612</td>\n",
       "      <td>0.19320</td>\n",
       "      <td>0.40824</td>\n",
       "      <td>0.000000e+00</td>\n",
       "      <td>1.198400e-06</td>\n",
       "    </tr>\n",
       "    <tr>\n",
       "      <th>4</th>\n",
       "      <td>lasagna</td>\n",
       "      <td>399.10</td>\n",
       "      <td>16.3631</td>\n",
       "      <td>42.4888</td>\n",
       "      <td>20.0778</td>\n",
       "      <td>0.34077</td>\n",
       "      <td>0.003899</td>\n",
       "      <td>0.06447</td>\n",
       "      <td>0.55874</td>\n",
       "      <td>0.87188</td>\n",
       "      <td>0.000000e+00</td>\n",
       "      <td>1.749900e-06</td>\n",
       "    </tr>\n",
       "  </tbody>\n",
       "</table>\n",
       "</div>"
      ],
      "text/plain": [
       "         food_type  calories      fat  carbohydrates  protein  calcium  \\\n",
       "0        red-apple     92.04   0.3120        21.9336   0.4212  0.00936   \n",
       "1           carrot      3.69   0.0216         0.8622   0.0837  0.00297   \n",
       "2  half-bread-loaf    112.23   1.1438        21.1603   3.9302  0.03397   \n",
       "3          lobster     74.76   0.7224         0.0000  15.9600  0.08064   \n",
       "4          lasagna    399.10  16.3631        42.4888  20.0778  0.34077   \n",
       "\n",
       "       iron  magnesium  potassium   sodium     vitamin_d   vitamin_b12  \n",
       "0  0.000172    0.00780    0.16224  0.00156  0.000000e+00  0.000000e+00  \n",
       "1  0.000027    0.00108    0.02880  0.00621  0.000000e+00  0.000000e+00  \n",
       "2  0.001561    0.01677    0.04730  0.22059  1.290000e-07  1.720000e-08  \n",
       "3  0.000244    0.03612    0.19320  0.40824  0.000000e+00  1.198400e-06  \n",
       "4  0.003899    0.06447    0.55874  0.87188  0.000000e+00  1.749900e-06  "
      ]
     },
     "execution_count": 9,
     "metadata": {},
     "output_type": "execute_result"
    }
   ],
   "source": [
    "# Convert the food_nutrient dictionary to a DataFrame\n",
    "food_nutrient_df = pd.DataFrame.from_dict(food_nutrient, orient='index').reset_index()\n",
    "\n",
    "# Rename the 'index' column to 'food_type'\n",
    "food_nutrient_df.rename(columns={'index': 'food_type'}, inplace=True)\n",
    "\n",
    "# Display the resulting DataFrame\n",
    "food_nutrient_df.head()"
   ]
  },
  {
   "cell_type": "markdown",
   "id": "30b696b7",
   "metadata": {
    "id": "30b696b7"
   },
   "source": [
    "# Save Nutrition Data to CSV"
   ]
  },
  {
   "cell_type": "code",
   "execution_count": 10,
   "id": "492f83a5",
   "metadata": {
    "executionInfo": {
     "elapsed": 276,
     "status": "ok",
     "timestamp": 1748595808384,
     "user": {
      "displayName": "Clara Jessica",
      "userId": "17926309179290799269"
     },
     "user_tz": -420
    },
    "id": "492f83a5"
   },
   "outputs": [],
   "source": [
    "food_nutrient_df.to_csv('food_nutrients.csv', index=False)"
   ]
  }
 ],
 "metadata": {
  "colab": {
   "provenance": []
  },
  "kernelspec": {
   "display_name": "Python 3 (ipykernel)",
   "language": "python",
   "name": "python3"
  },
  "language_info": {
   "codemirror_mode": {
    "name": "ipython",
    "version": 3
   },
   "file_extension": ".py",
   "mimetype": "text/x-python",
   "name": "python",
   "nbconvert_exporter": "python",
   "pygments_lexer": "ipython3",
   "version": "3.11.11"
  }
 },
 "nbformat": 4,
 "nbformat_minor": 5
}
